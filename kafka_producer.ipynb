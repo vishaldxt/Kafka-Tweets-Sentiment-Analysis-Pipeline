{
 "cells": [
  {
   "cell_type": "code",
   "execution_count": 1,
   "id": "27d1a2e3-47e9-4242-a707-95d4a518680a",
   "metadata": {},
   "outputs": [
    {
     "name": "stderr",
     "output_type": "stream",
     "text": [
      "C:\\Users\\91863\\AppData\\Local\\Temp\\ipykernel_4736\\143829913.py:1: DeprecationWarning: \n",
      "Pyarrow will become a required dependency of pandas in the next major release of pandas (pandas 3.0),\n",
      "(to allow more performant data types, such as the Arrow string type, and better interoperability with other libraries)\n",
      "but was not found to be installed on your system.\n",
      "If this would cause problems for you,\n",
      "please provide us feedback at https://github.com/pandas-dev/pandas/issues/54466\n",
      "        \n",
      "  import pandas as pd\n"
     ]
    }
   ],
   "source": [
    "import pandas as pd\n",
    "\n",
    "\n"
   ]
  },
  {
   "cell_type": "code",
   "execution_count": 2,
   "id": "8ee59212-6340-4639-a55b-7363d82363ed",
   "metadata": {},
   "outputs": [],
   "source": [
    "from time import sleep\n"
   ]
  },
  {
   "cell_type": "code",
   "execution_count": 3,
   "id": "0ef0cb32-3e65-4ded-91d7-f96275c57933",
   "metadata": {},
   "outputs": [],
   "source": [
    "from json import dumps\n",
    "import json\n"
   ]
  },
  {
   "cell_type": "code",
   "execution_count": 6,
   "id": "9e57a90a-e714-4df0-9932-2d30d0baf89a",
   "metadata": {},
   "outputs": [
    {
     "name": "stdout",
     "output_type": "stream",
     "text": [
      "Requirement already satisfied: kafka-python in c:\\users\\91863\\appdata\\local\\programs\\python\\python312\\lib\\site-packages (2.0.2)Note: you may need to restart the kernel to use updated packages.\n",
      "\n"
     ]
    },
    {
     "name": "stderr",
     "output_type": "stream",
     "text": [
      "\n",
      "[notice] A new release of pip is available: 23.2.1 -> 24.0\n",
      "[notice] To update, run: python.exe -m pip install --upgrade pip\n"
     ]
    }
   ],
   "source": [
    "pip install kafka-python\n"
   ]
  },
  {
   "cell_type": "code",
   "execution_count": 7,
   "id": "c9dd9498-d9c7-489e-bf74-5e765e0e6560",
   "metadata": {},
   "outputs": [
    {
     "ename": "SyntaxError",
     "evalue": "invalid syntax (3485724575.py, line 1)",
     "output_type": "error",
     "traceback": [
      "\u001b[1;36m  Cell \u001b[1;32mIn[7], line 1\u001b[1;36m\u001b[0m\n\u001b[1;33m    python.exe -m pip install --upgrade pip\u001b[0m\n\u001b[1;37m                  ^\u001b[0m\n\u001b[1;31mSyntaxError\u001b[0m\u001b[1;31m:\u001b[0m invalid syntax\n"
     ]
    }
   ],
   "source": [
    " python.exe -m pip install --upgrade pip"
   ]
  },
  {
   "cell_type": "code",
   "execution_count": 4,
   "id": "b13ebbc0-fc9f-4c7d-a245-9126e25a31e4",
   "metadata": {},
   "outputs": [],
   "source": [
    "from kafka import KafkaConsumer"
   ]
  },
  {
   "cell_type": "code",
   "execution_count": 2,
   "id": "37fc6ecd-53ac-4b87-a5b3-67290463efa5",
   "metadata": {},
   "outputs": [
    {
     "name": "stdout",
     "output_type": "stream",
     "text": [
      "Collecting git+https://github.com/dpkp/kafka-python.git\n",
      "  Cloning https://github.com/dpkp/kafka-python.git to c:\\users\\91863\\appdata\\local\\temp\\pip-req-build-_4vfyp_6\n",
      "  Resolved https://github.com/dpkp/kafka-python.git to commit b68f61d49556377bf111bebb82f8f2bd360cc6f7\n",
      "  Installing build dependencies: started\n",
      "  Installing build dependencies: finished with status 'done'\n",
      "  Getting requirements to build wheel: started\n",
      "  Getting requirements to build wheel: finished with status 'done'\n",
      "  Preparing metadata (pyproject.toml): started\n",
      "  Preparing metadata (pyproject.toml): finished with status 'done'\n",
      "Building wheels for collected packages: kafka-python\n",
      "  Building wheel for kafka-python (pyproject.toml): started\n",
      "  Building wheel for kafka-python (pyproject.toml): finished with status 'done'\n",
      "  Created wheel for kafka-python: filename=kafka_python-2.0.3.dev0-py2.py3-none-any.whl size=250842 sha256=c66f82ac2963fa80aa648a53b165758fa2bd6f4c30cc33d39f2830298d994497\n",
      "  Stored in directory: C:\\Users\\91863\\AppData\\Local\\Temp\\pip-ephem-wheel-cache-nohuzk5n\\wheels\\52\\77\\9a\\479e1f50d20caabf6268f6371428f779f674c40595b0555ac9\n",
      "Successfully built kafka-python\n",
      "Installing collected packages: kafka-python\n",
      "  Attempting uninstall: kafka-python\n",
      "    Found existing installation: kafka-python 2.0.2\n",
      "    Uninstalling kafka-python-2.0.2:\n",
      "      Successfully uninstalled kafka-python-2.0.2\n",
      "Successfully installed kafka-python-2.0.3.dev0\n",
      "Note: you may need to restart the kernel to use updated packages.\n"
     ]
    },
    {
     "name": "stderr",
     "output_type": "stream",
     "text": [
      "  Running command git clone --filter=blob:none --quiet https://github.com/dpkp/kafka-python.git 'C:\\Users\\91863\\AppData\\Local\\Temp\\pip-req-build-_4vfyp_6'\n",
      "\n",
      "[notice] A new release of pip is available: 23.2.1 -> 24.0\n",
      "[notice] To update, run: python.exe -m pip install --upgrade pip\n"
     ]
    }
   ],
   "source": [
    " pip install git+https://github.com/dpkp/kafka-python.git"
   ]
  },
  {
   "cell_type": "code",
   "execution_count": 5,
   "id": "c4063862-eec1-4aa5-89d7-6979745e2f5d",
   "metadata": {},
   "outputs": [],
   "source": [
    "import pandas as pd\n",
    "from kafka import KafkaProducer\n",
    "from time import sleep\n",
    "from json import dumps\n",
    "import json"
   ]
  },
  {
   "cell_type": "code",
   "execution_count": 6,
   "id": "70f8c278-5f9a-4b67-93ad-89705f23441d",
   "metadata": {},
   "outputs": [],
   "source": [
    "producer = KafkaProducer(bootstrap_servers=[' 3.109.143.159:9092'], #change ip here\n",
    "                         value_serializer=lambda x: \n",
    "                         dumps(x).encode('utf-8'))"
   ]
  },
  {
   "cell_type": "code",
   "execution_count": 12,
   "id": "d9b9a3f3-207b-4fe2-a366-1431538a5241",
   "metadata": {},
   "outputs": [
    {
     "data": {
      "text/plain": [
       "<kafka.producer.future.FutureRecordMetadata at 0x18efe4814f0>"
      ]
     },
     "execution_count": 12,
     "metadata": {},
     "output_type": "execute_result"
    }
   ],
   "source": [
    "producer.send('twitter_data', value={'surnasdasdame':'sdmar'})"
   ]
  },
  {
   "cell_type": "code",
   "execution_count": 8,
   "id": "14f33810-745f-491b-8846-1ff6e9183baa",
   "metadata": {},
   "outputs": [],
   "source": [
    "df = pd.read_csv(\"tweets.csv\")"
   ]
  },
  {
   "cell_type": "code",
   "execution_count": 15,
   "id": "9966d88b-4c7f-45e7-b1f5-5c6ba6645b11",
   "metadata": {},
   "outputs": [
    {
     "ename": "KeyboardInterrupt",
     "evalue": "",
     "output_type": "error",
     "traceback": [
      "\u001b[1;31m------------------------------------------------------------------------\u001b[0m",
      "\u001b[1;31mKeyboardInterrupt\u001b[0m                      Traceback (most recent call last)",
      "Cell \u001b[1;32mIn[15], line 3\u001b[0m\n\u001b[0;32m      1\u001b[0m \u001b[38;5;28;01mwhile\u001b[39;00m \u001b[38;5;28;01mTrue\u001b[39;00m:\n\u001b[0;32m      2\u001b[0m     tweets_data\u001b[38;5;241m=\u001b[39mdf\u001b[38;5;241m.\u001b[39msample(\u001b[38;5;241m1\u001b[39m)\u001b[38;5;241m.\u001b[39mto_dict(orient\u001b[38;5;241m=\u001b[39m\u001b[38;5;124m\"\u001b[39m\u001b[38;5;124mrecords\u001b[39m\u001b[38;5;124m\"\u001b[39m)[\u001b[38;5;241m0\u001b[39m]\n\u001b[1;32m----> 3\u001b[0m     \u001b[43mproducer\u001b[49m\u001b[38;5;241;43m.\u001b[39;49m\u001b[43msend\u001b[49m\u001b[43m(\u001b[49m\u001b[38;5;124;43m'\u001b[39;49m\u001b[38;5;124;43mtwitter_data\u001b[39;49m\u001b[38;5;124;43m'\u001b[39;49m\u001b[43m,\u001b[49m\u001b[43mvalue\u001b[49m\u001b[43m \u001b[49m\u001b[38;5;241;43m=\u001b[39;49m\u001b[43m \u001b[49m\u001b[43mtweets_data\u001b[49m\u001b[43m)\u001b[49m\n\u001b[0;32m      4\u001b[0m     sleep(\u001b[38;5;241m1\u001b[39m)\n",
      "File \u001b[1;32m~\\AppData\\Local\\Programs\\Python\\Python312\\Lib\\site-packages\\kafka\\producer\\kafka.py:611\u001b[0m, in \u001b[0;36mKafkaProducer.send\u001b[1;34m(self, topic, value, key, headers, partition, timestamp_ms)\u001b[0m\n\u001b[0;32m    608\u001b[0m \u001b[38;5;28;01mif\u001b[39;00m batch_is_full \u001b[38;5;129;01mor\u001b[39;00m new_batch_created:\n\u001b[0;32m    609\u001b[0m     log\u001b[38;5;241m.\u001b[39mdebug(\u001b[38;5;124m\"\u001b[39m\u001b[38;5;124mWaking up the sender since \u001b[39m\u001b[38;5;132;01m%s\u001b[39;00m\u001b[38;5;124m is either full or\u001b[39m\u001b[38;5;124m\"\u001b[39m\n\u001b[0;32m    610\u001b[0m               \u001b[38;5;124m\"\u001b[39m\u001b[38;5;124m getting a new batch\u001b[39m\u001b[38;5;124m\"\u001b[39m, tp)\n\u001b[1;32m--> 611\u001b[0m     \u001b[38;5;28;43mself\u001b[39;49m\u001b[38;5;241;43m.\u001b[39;49m\u001b[43m_sender\u001b[49m\u001b[38;5;241;43m.\u001b[39;49m\u001b[43mwakeup\u001b[49m\u001b[43m(\u001b[49m\u001b[43m)\u001b[49m\n\u001b[0;32m    613\u001b[0m \u001b[38;5;28;01mreturn\u001b[39;00m future\n\u001b[0;32m    614\u001b[0m \u001b[38;5;66;03m# handling exceptions and record the errors;\u001b[39;00m\n\u001b[0;32m    615\u001b[0m \u001b[38;5;66;03m# for API exceptions return them in the future,\u001b[39;00m\n\u001b[0;32m    616\u001b[0m \u001b[38;5;66;03m# for other exceptions raise directly\u001b[39;00m\n",
      "File \u001b[1;32m~\\AppData\\Local\\Programs\\Python\\Python312\\Lib\\site-packages\\kafka\\producer\\sender.py:333\u001b[0m, in \u001b[0;36mSender.wakeup\u001b[1;34m(self)\u001b[0m\n\u001b[0;32m    331\u001b[0m \u001b[38;5;28;01mdef\u001b[39;00m \u001b[38;5;21mwakeup\u001b[39m(\u001b[38;5;28mself\u001b[39m):\n\u001b[0;32m    332\u001b[0m \u001b[38;5;250m    \u001b[39m\u001b[38;5;124;03m\"\"\"Wake up the selector associated with this send thread.\"\"\"\u001b[39;00m\n\u001b[1;32m--> 333\u001b[0m     \u001b[38;5;28;43mself\u001b[39;49m\u001b[38;5;241;43m.\u001b[39;49m\u001b[43m_client\u001b[49m\u001b[38;5;241;43m.\u001b[39;49m\u001b[43mwakeup\u001b[49m\u001b[43m(\u001b[49m\u001b[43m)\u001b[49m\n",
      "File \u001b[1;32m~\\AppData\\Local\\Programs\\Python\\Python312\\Lib\\site-packages\\kafka\\client_async.py:932\u001b[0m, in \u001b[0;36mKafkaClient.wakeup\u001b[1;34m(self)\u001b[0m\n\u001b[0;32m    930\u001b[0m \u001b[38;5;28;01mwith\u001b[39;00m \u001b[38;5;28mself\u001b[39m\u001b[38;5;241m.\u001b[39m_wake_lock:\n\u001b[0;32m    931\u001b[0m     \u001b[38;5;28;01mtry\u001b[39;00m:\n\u001b[1;32m--> 932\u001b[0m         \u001b[38;5;28;43mself\u001b[39;49m\u001b[38;5;241;43m.\u001b[39;49m\u001b[43m_wake_w\u001b[49m\u001b[38;5;241;43m.\u001b[39;49m\u001b[43msendall\u001b[49m\u001b[43m(\u001b[49m\u001b[38;5;124;43mb\u001b[39;49m\u001b[38;5;124;43m'\u001b[39;49m\u001b[38;5;124;43mx\u001b[39;49m\u001b[38;5;124;43m'\u001b[39;49m\u001b[43m)\u001b[49m\n\u001b[0;32m    933\u001b[0m     \u001b[38;5;28;01mexcept\u001b[39;00m socket\u001b[38;5;241m.\u001b[39mtimeout:\n\u001b[0;32m    934\u001b[0m         log\u001b[38;5;241m.\u001b[39mwarning(\u001b[38;5;124m'\u001b[39m\u001b[38;5;124mTimeout to send to wakeup socket!\u001b[39m\u001b[38;5;124m'\u001b[39m)\n",
      "\u001b[1;31mKeyboardInterrupt\u001b[0m: "
     ]
    }
   ],
   "source": [
    "while True:\n",
    "    tweets_data=df.sample(1).to_dict(orient=\"records\")[0]\n",
    "    producer.send('twitter_data',value = tweets_data)\n",
    "    sleep(1)"
   ]
  },
  {
   "cell_type": "code",
   "execution_count": 23,
   "id": "a8c4cb30-eb79-43fc-ad6d-49a731d1a3dd",
   "metadata": {},
   "outputs": [],
   "source": [
    "producer.flush()"
   ]
  },
  {
   "cell_type": "code",
   "execution_count": null,
   "id": "a5e58aaf-bff6-4acf-848a-e79ccad9d7ab",
   "metadata": {},
   "outputs": [],
   "source": []
  }
 ],
 "metadata": {
  "kernelspec": {
   "display_name": "Python 3 (ipykernel)",
   "language": "python",
   "name": "python3"
  },
  "language_info": {
   "codemirror_mode": {
    "name": "ipython",
    "version": 3
   },
   "file_extension": ".py",
   "mimetype": "text/x-python",
   "name": "python",
   "nbconvert_exporter": "python",
   "pygments_lexer": "ipython3",
   "version": "3.12.1"
  }
 },
 "nbformat": 4,
 "nbformat_minor": 5
}
